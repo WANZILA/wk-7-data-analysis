{
 "cells": [
  {
   "cell_type": "markdown",
   "id": "807bf934",
   "metadata": {},
   "source": [
    "\n",
    "# Analyzing Data with Pandas and Visualizing Results with Matplotlib\n",
    "\n",
    "**Objective:**  \n",
    "- Load and analyze a dataset using **pandas**.  \n",
    "- Create simple plots with **matplotlib** to visualize findings.  \n",
    "\n",
    "This notebook is self-contained and uses the classic **Iris** dataset. It demonstrates:\n",
    "- Data loading & error handling  \n",
    "- Exploration & cleaning of missing values  \n",
    "- Descriptive statistics and group-by analysis  \n",
    "- Four distinct matplotlib charts (line, bar, histogram, scatter)\n"
   ]
  },
  {
   "cell_type": "code",
   "execution_count": null,
   "id": "f83df3ca",
   "metadata": {},
   "outputs": [],
   "source": [
    "\n",
    "# Imports\n",
    "import os\n",
    "import sys\n",
    "import numpy as np\n",
    "import pandas as pd\n",
    "import matplotlib.pyplot as plt\n",
    "from sklearn.datasets import load_iris\n",
    "\n",
    "# Matplotlib: each chart will be on a separate figure; no explicit colors set.\n",
    "DATA_DIR = \"/mnt/data\"\n",
    "CSV_PATH = os.path.join(DATA_DIR, \"iris.csv\")\n"
   ]
  },
  {
   "cell_type": "markdown",
   "id": "87de1fdd",
   "metadata": {},
   "source": [
    "## Task 1: Load and Explore the Dataset"
   ]
  },
  {
   "cell_type": "code",
   "execution_count": null,
   "id": "36aa217e",
   "metadata": {},
   "outputs": [],
   "source": [
    "\n",
    "# Create a local CSV from sklearn's Iris dataset (for reproducibility)\n",
    "iris_bunch = load_iris(as_frame=True)\n",
    "df_raw = iris_bunch.frame.copy()\n",
    "df_raw.columns = [c.replace(\" (cm)\", \"\").replace(\" \", \"_\") for c in df_raw.columns]\n",
    "os.makedirs(DATA_DIR, exist_ok=True)\n",
    "df_raw.to_csv(CSV_PATH, index=False)\n",
    "print(f\"Saved dataset to: {CSV_PATH}\")\n"
   ]
  },
  {
   "cell_type": "code",
   "execution_count": null,
   "id": "873cede8",
   "metadata": {},
   "outputs": [],
   "source": [
    "\n",
    "# Robust CSV reader with error handling\n",
    "def load_dataset(path: str) -> pd.DataFrame:\n",
    "    try:\n",
    "        df = pd.read_csv(path)\n",
    "    except FileNotFoundError:\n",
    "        print(f\"[ERROR] File not found: {path}\", file=sys.stderr); raise\n",
    "    except pd.errors.EmptyDataError:\n",
    "        print(\"[ERROR] The CSV appears to be empty.\", file=sys.stderr); raise\n",
    "    except Exception as e:\n",
    "        print(f\"[ERROR] Unexpected error while reading CSV: {e}\", file=sys.stderr); raise\n",
    "    return df\n",
    "\n",
    "df = load_dataset(CSV_PATH)\n",
    "df.head()\n"
   ]
  },
  {
   "cell_type": "code",
   "execution_count": null,
   "id": "049add00",
   "metadata": {},
   "outputs": [],
   "source": [
    "\n",
    "# Explore structure: data types and missing values\n",
    "structure = pd.DataFrame({\n",
    "    \"dtype\": df.dtypes.astype(str),\n",
    "    \"null_count\": df.isnull().sum()\n",
    "})\n",
    "structure\n"
   ]
  },
  {
   "cell_type": "markdown",
   "id": "5d003de2",
   "metadata": {},
   "source": [
    "\n",
    "### Cleaning: Handle Missing Values  \n",
    "We fill numeric NaNs with the median and categorical NaNs with the mode (if any). The Iris dataset has no missing values, but the cleaning pipeline is implemented for robustness.\n"
   ]
  },
  {
   "cell_type": "code",
   "execution_count": null,
   "id": "28321aff",
   "metadata": {},
   "outputs": [],
   "source": [
    "\n",
    "def clean_frame(frame: pd.DataFrame) -> pd.DataFrame:\n",
    "    cleaned = frame.copy()\n",
    "    # Numeric: fill with median\n",
    "    for col in cleaned.select_dtypes(include=[np.number]).columns:\n",
    "        if cleaned[col].isnull().any():\n",
    "            cleaned[col] = cleaned[col].fillna(cleaned[col].median())\n",
    "    # Non-numeric: fill with mode or 'Unknown'\n",
    "    for col in cleaned.select_dtypes(exclude=[np.number]).columns:\n",
    "        if cleaned[col].isnull().any():\n",
    "            mode_vals = cleaned[col].mode(dropna=True)\n",
    "            cleaned[col] = cleaned[col].fillna(mode_vals.iloc[0] if len(mode_vals) else \"Unknown\")\n",
    "    return cleaned\n",
    "\n",
    "df_clean = clean_frame(df)\n",
    "df_clean.head()\n"
   ]
  },
  {
   "cell_type": "markdown",
   "id": "b5d28662",
   "metadata": {},
   "source": [
    "## Task 2: Basic Data Analysis"
   ]
  },
  {
   "cell_type": "code",
   "execution_count": null,
   "id": "10c49b2b",
   "metadata": {},
   "outputs": [],
   "source": [
    "\n",
    "# Descriptive statistics\n",
    "desc = df_clean.describe().T\n",
    "desc\n"
   ]
  },
  {
   "cell_type": "code",
   "execution_count": null,
   "id": "d96a5701",
   "metadata": {},
   "outputs": [],
   "source": [
    "\n",
    "# Grouping by species and computing means for numeric columns\n",
    "# The raw CSV stores species as 'target' (0,1,2). Map to names for readability.\n",
    "if df_clean[\"target\"].dtype != object:\n",
    "    mapping = {i: name for i, name in enumerate(iris_bunch.target_names)}\n",
    "    df_clean[\"species\"] = df_clean[\"target\"].map(mapping)\n",
    "else:\n",
    "    df_clean[\"species\"] = df_clean[\"target\"]\n",
    "\n",
    "grouped_means = (\n",
    "    df_clean.groupby(\"species\")[[\"sepal_length\",\"sepal_width\",\"petal_length\",\"petal_width\"]]\n",
    "      .mean()\n",
    "      .sort_index()\n",
    "      .round(2)\n",
    ")\n",
    "grouped_means\n"
   ]
  },
  {
   "cell_type": "code",
   "execution_count": null,
   "id": "6da67263",
   "metadata": {},
   "outputs": [],
   "source": [
    "\n",
    "# Quick findings / observations\n",
    "corr = df_clean[[\"sepal_length\",\"petal_length\"]].corr().iloc[0,1]\n",
    "longest_petal_species = grouped_means[\"petal_length\"].idxmax()\n",
    "print(\"Findings:\")\n",
    "print(f\"- Positive correlation between sepal_length and petal_length (~ {corr:.2f}).\")\n",
    "print(f\"- Species with longest average petals: {longest_petal_species} ({grouped_means.loc[longest_petal_species, 'petal_length']:.2f} cm).\")\n",
    "print(f\"- Variability snapshot (std): sepal_length={desc.loc['sepal_length','std']:.2f}, petal_length={desc.loc['petal_length','std']:.2f}.\")\n"
   ]
  },
  {
   "cell_type": "markdown",
   "id": "e64110a8",
   "metadata": {},
   "source": [
    "\n",
    "## Task 3: Data Visualization  \n",
    "We create four distinct plots using **matplotlib**. Each plot has a title and axis labels.\n"
   ]
  },
  {
   "cell_type": "code",
   "execution_count": null,
   "id": "413102b4",
   "metadata": {},
   "outputs": [],
   "source": [
    "\n",
    "# 1) Line chart: Sepal length over sample index\n",
    "plt.figure()\n",
    "plt.plot(df_clean.index, df_clean[\"sepal_length\"])\n",
    "plt.title(\"Sepal Length over Sample Index\")\n",
    "plt.xlabel(\"Sample Index\")\n",
    "plt.ylabel(\"Sepal Length (cm)\")\n",
    "plt.show()\n"
   ]
  },
  {
   "cell_type": "code",
   "execution_count": null,
   "id": "ad05e208",
   "metadata": {},
   "outputs": [],
   "source": [
    "\n",
    "# 2) Bar chart: Average petal length per species\n",
    "plt.figure()\n",
    "plt.bar(grouped_means.index, grouped_means[\"petal_length\"])\n",
    "plt.title(\"Average Petal Length by Species\")\n",
    "plt.xlabel(\"Species\")\n",
    "plt.ylabel(\"Average Petal Length (cm)\")\n",
    "plt.show()\n"
   ]
  },
  {
   "cell_type": "code",
   "execution_count": null,
   "id": "d3b7b5a3",
   "metadata": {},
   "outputs": [],
   "source": [
    "\n",
    "# 3) Histogram: Distribution of sepal length\n",
    "plt.figure()\n",
    "plt.hist(df_clean[\"sepal_length\"], bins=15)\n",
    "plt.title(\"Distribution of Sepal Length\")\n",
    "plt.xlabel(\"Sepal Length (cm)\")\n",
    "plt.ylabel(\"Frequency\")\n",
    "plt.show()\n"
   ]
  },
  {
   "cell_type": "code",
   "execution_count": null,
   "id": "2ae2ee79",
   "metadata": {},
   "outputs": [],
   "source": [
    "\n",
    "# 4) Scatter plot: Sepal length vs Petal length\n",
    "plt.figure()\n",
    "plt.scatter(df_clean[\"sepal_length\"], df_clean[\"petal_length\"])\n",
    "plt.title(\"Sepal Length vs Petal Length\")\n",
    "plt.xlabel(\"Sepal Length (cm)\")\n",
    "plt.ylabel(\"Petal Length (cm)\")\n",
    "plt.show()\n"
   ]
  },
  {
   "cell_type": "markdown",
   "id": "c8c679d1",
   "metadata": {},
   "source": [
    "### (Optional) Save figures to files"
   ]
  },
  {
   "cell_type": "code",
   "execution_count": null,
   "id": "97a196ee",
   "metadata": {},
   "outputs": [],
   "source": [
    "\n",
    "# Save all four figures to /mnt/data for submission (if re-run, generate again)\n",
    "# Note: We create fresh figures before saving.\n",
    "# Line\n",
    "plt.figure(); plt.plot(df_clean.index, df_clean[\"sepal_length\"]); plt.title(\"Sepal Length over Sample Index\"); plt.xlabel(\"Sample Index\"); plt.ylabel(\"Sepal Length (cm)\")\n",
    "plt.savefig(os.path.join(DATA_DIR, \"plot_line_sepal_length.png\"), bbox_inches=\"tight\")\n",
    "\n",
    "# Bar\n",
    "plt.figure(); plt.bar(grouped_means.index, grouped_means[\"petal_length\"]); plt.title(\"Average Petal Length by Species\"); plt.xlabel(\"Species\"); plt.ylabel(\"Average Petal Length (cm)\")\n",
    "plt.savefig(os.path.join(DATA_DIR, \"plot_bar_avg_petal_length.png\"), bbox_inches=\"tight\")\n",
    "\n",
    "# Hist\n",
    "plt.figure(); plt.hist(df_clean[\"sepal_length\"], bins=15); plt.title(\"Distribution of Sepal Length\"); plt.xlabel(\"Sepal Length (cm)\"); plt.ylabel(\"Frequency\")\n",
    "plt.savefig(os.path.join(DATA_DIR, \"plot_hist_sepal_length.png\"), bbox_inches=\"tight\")\n",
    "\n",
    "# Scatter\n",
    "plt.figure(); plt.scatter(df_clean[\"sepal_length\"], df_clean[\"petal_length\"]); plt.title(\"Sepal Length vs Petal Length\"); plt.xlabel(\"Sepal Length (cm)\"); plt.ylabel(\"Petal Length (cm)\")\n",
    "plt.savefig(os.path.join(DATA_DIR, \"plot_scatter_sepal_vs_petal.png\"), bbox_inches=\"tight\")\n",
    "\n",
    "print(\"Saved figures to:\", DATA_DIR)\n"
   ]
  },
  {
   "cell_type": "markdown",
   "id": "fb32afdc",
   "metadata": {},
   "source": [
    "\n",
    "## Submission Notes\n",
    "- Dataset: `iris.csv` (auto-saved to `/mnt/data/iris.csv`)\n",
    "- Include this notebook and the generated figures in your submission.\n",
    "- All plots include titles and axis labels; analysis demonstrates `describe()`, grouping, and key observations.\n"
   ]
  }
 ],
 "metadata": {},
 "nbformat": 4,
 "nbformat_minor": 5
}
